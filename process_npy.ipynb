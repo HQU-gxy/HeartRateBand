{
 "cells": [
  {
   "cell_type": "code",
   "execution_count": 12,
   "metadata": {},
   "outputs": [],
   "source": [
    "import pyarrow as pa\n",
    "import pyarrow.parquet as pq\n",
    "import polars as pl\n",
    "import numpy as np\n",
    "\n",
    "f = np.load(\"data.npy\")\n",
    "f.shape"
   ]
  },
  {
   "cell_type": "code",
   "execution_count": 19,
   "metadata": {},
   "outputs": [],
   "source": [
    "# save as parquet with high compression\n",
    "schema = pa.schema([(\"red\", pa.uint32())])\n",
    "table = pa.Table.from_arrays([pa.array(f[:,0])], schema=schema)\n",
    "pq.write_table(table, \"red.parquet\", compression=\"snappy\")"
   ]
  },
  {
   "cell_type": "code",
   "execution_count": 20,
   "metadata": {},
   "outputs": [
    {
     "name": "stdout",
     "output_type": "stream",
     "text": [
      "pyarrow.Table\n",
      "red: uint32\n",
      "----\n",
      "red: [[6062,6073,6083,6101,6116,...,2260824,2260823,2260843,2260842,2260810],[2260810,2260821,2260837,2260829,2260815,...,2822853,2822637,2822435,2822277,2822112]]\n"
     ]
    }
   ],
   "source": [
    "# try to read again\n",
    "table = pq.read_table(\"red.parquet\")\n",
    "print(table)"
   ]
  }
 ],
 "metadata": {
  "kernelspec": {
   "display_name": "Python 3",
   "language": "python",
   "name": "python3"
  },
  "language_info": {
   "codemirror_mode": {
    "name": "ipython",
    "version": 3
   },
   "file_extension": ".py",
   "mimetype": "text/x-python",
   "name": "python",
   "nbconvert_exporter": "python",
   "pygments_lexer": "ipython3",
   "version": "3.12.2"
  }
 },
 "nbformat": 4,
 "nbformat_minor": 2
}
