{
 "cells": [
  {
   "cell_type": "code",
   "execution_count": 12,
   "metadata": {},
   "outputs": [
    {
     "data": {
      "text/plain": [
       "(13000, 2)"
      ]
     },
     "metadata": {},
     "output_type": "display_data"
    }
   ],
   "source": [
    "import pyarrow as pa\n",
    "import pyarrow.parquet as pq\n",
    "import polars as pl\n",
    "import numpy as np\n",
    "import json\n",
    "from datetime import datetime\n",
    "\n",
    "arr = np.load(\"data.npy\")\n",
    "display(arr.shape)\n",
    "sample_rate = None\n",
    "with open(\"data.npy.json\") as f:\n",
    "    sample_rate = int(json.load(f)[\"sample_rate\"])\n",
    "    assert 0 < sample_rate <= 3_200, \"sample rate is out of bounds\""
   ]
  },
  {
   "cell_type": "code",
   "execution_count": 13,
   "metadata": {},
   "outputs": [],
   "source": [
    "# save as parquet with high compression\n",
    "schema = pa.schema([(\"red\", pa.uint32())])\n",
    "schema.add_metadata({\"sample_rate\": str(sample_rate)})\n",
    "table = pa.Table.from_arrays([pa.array(arr[:,0])], schema=schema)\n",
    "# try to read again\n",
    "# put date and time to the filename\n",
    "# and sample rate\n",
    "file_name = f\"red_{sample_rate}Hz_{datetime.now().strftime('%Y-%m-%d_%H-%M-%S')}.parquet\"\n",
    "pq.write_table(table, file_name, compression=\"snappy\")"
   ]
  },
  {
   "cell_type": "code",
   "execution_count": 14,
   "metadata": {},
   "outputs": [
    {
     "name": "stdout",
     "output_type": "stream",
     "text": [
      "pyarrow.Table\n",
      "red: uint32\n",
      "----\n",
      "red: [[10955,10985,11014,11049,11076,...,6835,6838,6839,6837,6836]]\n"
     ]
    }
   ],
   "source": [
    "table = pq.read_table(file_name)\n",
    "print(table)"
   ]
  }
 ],
 "metadata": {
  "kernelspec": {
   "display_name": "Python 3",
   "language": "python",
   "name": "python3"
  },
  "language_info": {
   "codemirror_mode": {
    "name": "ipython",
    "version": 3
   },
   "file_extension": ".py",
   "mimetype": "text/x-python",
   "name": "python",
   "nbconvert_exporter": "python",
   "pygments_lexer": "ipython3",
   "version": "3.12.2"
  }
 },
 "nbformat": 4,
 "nbformat_minor": 2
}
