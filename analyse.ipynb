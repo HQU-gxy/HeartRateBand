{
 "cells": [
  {
   "cell_type": "code",
   "execution_count": null,
   "metadata": {},
   "outputs": [],
   "source": [
    "import pyarrow as pa\n",
    "import pyarrow.parquet as pq\n",
    "import polars as pl\n",
    "import numpy as np\n",
    "from pathlib import Path"
   ]
  },
  {
   "cell_type": "code",
   "execution_count": null,
   "metadata": {},
   "outputs": [],
   "source": [
    "# try to read again\n",
    "FILE_NAMES = [\n",
    "    \"red_100Hz_2024-04-01_11-29-27\",\n",
    "    \"red_100Hz_2024-04-01_14-40-56\",\n",
    "]\n",
    "FILE_NAME = Path(FILE_NAMES[1] + \".parquet\")\n",
    "table = pq.read_table(FILE_NAME)\n",
    "# read sample rate from filename\n",
    "sample_rate_str = FILE_NAME.stem.split(\"_\")[1]\n",
    "_hz_idx = sample_rate_str.find(\"Hz\")\n",
    "sample_rate = int(sample_rate_str[:_hz_idx])\n",
    "SAMPLE_RATE = sample_rate\n",
    "SAMPLE_INTERVAL = 1 / SAMPLE_RATE\n",
    "display(f\"Sample rate: {SAMPLE_RATE} Hz\")"
   ]
  },
  {
   "cell_type": "code",
   "execution_count": null,
   "metadata": {},
   "outputs": [],
   "source": [
    "data = table[\"red\"].to_numpy()\n",
    "data.shape"
   ]
  },
  {
   "cell_type": "code",
   "execution_count": null,
   "metadata": {},
   "outputs": [],
   "source": [
    "import matplotlib.pyplot as plt\n",
    "\n",
    "# sample rate is 800Hz (1.25ms per sample)\n",
    "xs = np.arange(0, data.shape[0] * 1.25e-3, 1.25e-3)\n",
    "# set x axis label\n",
    "plt.xlabel(\"Time (s)\")\n",
    "plt.ylabel(\"Red LED Reading (ADC Value)\")\n",
    "plt.plot(xs, data)"
   ]
  },
  {
   "cell_type": "code",
   "execution_count": null,
   "metadata": {},
   "outputs": [],
   "source": [
    "from enum import Enum, auto\n",
    "\n",
    "THRESHOLD = 1.5e6\n",
    "\n",
    "\n",
    "class Level(Enum):\n",
    "    LOW = auto()\n",
    "    HIGH = auto()\n",
    "\n",
    "\n",
    "Segment = tuple[int, int, Level]\n",
    "\n",
    "\n",
    "def segment_data(data: np.ndarray, threshold: float | int) -> list[Segment]:\n",
    "    last_index = 0\n",
    "    last_state = Level.HIGH if data[0] > threshold else Level.LOW\n",
    "    segments: list[Segment] = []\n",
    "    for i, n in enumerate(data):\n",
    "        if n > threshold:\n",
    "            if last_state == Level.LOW:\n",
    "                segments.append((last_index, i, Level.LOW))\n",
    "                last_index = i\n",
    "                last_state = Level.HIGH\n",
    "            else:\n",
    "                continue\n",
    "        else:\n",
    "            if last_state == Level.HIGH:\n",
    "                segments.append((last_index, i, Level.HIGH))\n",
    "                last_index = i\n",
    "                last_state = Level.LOW\n",
    "            else:\n",
    "                continue\n",
    "        if i == len(data) - 1:\n",
    "            segments.append((last_index, i, last_state))\n",
    "    return segments\n",
    "\n",
    "segments = segment_data(data, THRESHOLD)"
   ]
  },
  {
   "cell_type": "code",
   "execution_count": null,
   "metadata": {},
   "outputs": [],
   "source": [
    "def segment_length(segment: Segment) -> int:\n",
    "    return segment[1] - segment[0]\n",
    "\n",
    "segment_lens = [segment_length(segment) for segment in segments]\n",
    "np.percentile(segment_lens, 75)"
   ]
  },
  {
   "cell_type": "code",
   "execution_count": null,
   "metadata": {},
   "outputs": [],
   "source": [
    "real_segments = [s for s in segments if segment_length(s) > 100]\n",
    "display(real_segments)"
   ]
  },
  {
   "cell_type": "code",
   "execution_count": null,
   "metadata": {},
   "outputs": [],
   "source": [
    "# high plot as red, low plot as blue\n",
    "for segment in real_segments:\n",
    "    color = \"red\" if segment[2] == Level.HIGH else \"blue\"\n",
    "    plt.axvspan(segment[0] * 1.25e-3, segment[1] * 1.25e-3, color=color, alpha=0.5)"
   ]
  },
  {
   "cell_type": "code",
   "execution_count": null,
   "metadata": {},
   "outputs": [],
   "source": [
    "import random\n",
    "import plotly.express as px\n",
    "import plotly.graph_objects as go\n",
    "# we're only interested in the high segments\n",
    "high_segments_idx = [s for s in real_segments if s[2] == Level.HIGH]\n",
    "display(high_segments_idx)\n",
    "high_segments = [data[s[0]:s[1]] for s in high_segments_idx]\n",
    "\n",
    "# lucky = random.sample(high_segments, 1)[0]\n",
    "# lucky_idx = random.randint(0, len(high_segments) - 1)\n",
    "lucky_idx = 0\n",
    "display(f\"lucky index: {lucky_idx}\")\n",
    "# 2 might be a good one\n",
    "# 1484 : 70_000\n",
    "lucky = high_segments[lucky_idx]\n",
    "# filter out below 1 percentile and above 99 percentile\n",
    "# filtered_lucky = np.clip(lucky, np.percentile(lucky, 1),\n",
    "#                          np.percentile(lucky, 99))\n",
    "# TODO: maybe doing some edge detection\n",
    "# like 1D canny\n",
    "# I don't feel the necessity if DC offset is removed (we have different significant DC offset)\n",
    "xs = np.array(range(len(lucky)))\n",
    "xs_time = xs * SAMPLE_INTERVAL\n",
    "# px.line(y=lucky, x=xs).show()\n",
    "trace = go.Scatter(x=xs, y=lucky, mode=\"lines\")\n",
    "trace_time = go.Scatter(x=xs_time, y=lucky, mode=\"lines\")\n",
    "fig = go.Figure(data=[trace_time, trace])\n",
    "# https://community.plotly.com/t/can-plotly-support-2-x-axis-and-2-y-axis-in-one-graph/38303/2\n",
    "fig.update_layout(\n",
    "    xaxis=dict(title=\"Sample Index\"),\n",
    "    yaxis=dict(title=\"Red LED Reading (ADC Value)\"),\n",
    "    xaxis2=dict(title=\"Time (s)\", overlaying=\"x\", side=\"top\"),\n",
    ")\n",
    "fig.data[0].update(xaxis=\"x2\", yaxis=\"y\", line=dict(color=\"rgba(0,0,0,0)\")) # type: ignore\n",
    "fig.update_layout(showlegend=False)\n",
    "fig.show()"
   ]
  },
  {
   "cell_type": "code",
   "execution_count": null,
   "metadata": {},
   "outputs": [],
   "source": [
    "from typing import Optional\n",
    "\n",
    "\n",
    "workable_data:Optional[np.ndarray] = lucky\n",
    "# if FILE_NAME.stem == \"red_100Hz_2024-04-01_11-29-27\":\n",
    "#     if lucky_idx == 1:\n",
    "#         workable_data = lucky[4299:-100]\n",
    "#     if lucky_idx == 2:\n",
    "#         workable_data = lucky[765:-50]\n",
    "#     if lucky_idx == 6:\n",
    "#         workable_data = lucky[1678:-200]\n",
    "\n",
    "xs_time = np.array(range(len(workable_data))) * SAMPLE_INTERVAL # type: ignore\n",
    "px.line(y=workable_data, x=xs_time).show()"
   ]
  },
  {
   "cell_type": "code",
   "execution_count": null,
   "metadata": {},
   "outputs": [],
   "source": [
    "import heartpy as hp\n",
    "from scipy.signal import butter, detrend, filtfilt, iirnotch, savgol_filter, wiener, sosfilt, sosfiltfilt\n",
    "from scipy.io import loadmat\n",
    "from heartpy import filter_signal\n",
    "\n",
    "mat = loadmat(\"HR_filter_ba.mat\")\n",
    "display(mat)"
   ]
  },
  {
   "cell_type": "code",
   "execution_count": null,
   "metadata": {},
   "outputs": [],
   "source": [
    "# 0.4Hz to 100Hz\n",
    "# https://github.com/paulvangentcom/heartrate_analysis_python/blob/master/examples/1_regular_PPG/Analysing_a_PPG_signal.ipynb\n",
    "# https://github.com/paulvangentcom/heartrate_analysis_python/blob/master/examples/5_noisy_ECG/Analysing_Noisy_ECG.ipynb\n",
    "# https://github.com/paulvangentcom/heartrate_analysis_python/blob/master/docs/algorithmfunctioning.rst\n",
    "# https://github.com/paulvangentcom/heartrate_analysis_python/blob/master/docs/heartrateanalysis.rst\n",
    "\n",
    "# remove_baseline_wander is just a notch filter applied to low frequency (to remove DC offset)\n",
    "# notch filter to remove DC offset\n",
    "# enhance_ecg_peaks is useless\n",
    "# the high pass/low pass/band pass filter here are all butterworth filter\n",
    "\n",
    "# We will use the bandpass variant.\n",
    "# we filter out frequencies below 0.8Hz (<= 48 bpm) (bpm = 60 x Hz)\n",
    "# and above 3Hz (>= 180 bpm)\n",
    "# Second-order sections (SOS) matrix and gain values (G) from MATLAB\n",
    "\n",
    "# by default it only has 2nd order filter\n",
    "scipy_bp = butter(2, [0.75, 6.5], btype=\"band\", fs=SAMPLE_RATE, output=\"sos\")\n",
    "filtered_scipy = sosfiltfilt(scipy_bp, workable_data)\n",
    "\n",
    "b = np.array(mat[\"b\"]).reshape(-1)\n",
    "a = np.array(mat[\"a\"]).reshape(-1)\n",
    "\n",
    "filtered_mat = filtfilt(b, a, workable_data)\n",
    "\n",
    "# drop the rediculously high values\n",
    "# I'm not sure about the value range\n",
    "filtered_scipy = np.clip(filtered_scipy, -255, 255 - 1)\n",
    "filtered_mat = np.clip(filtered_mat, -255, 255 - 1)\n",
    "\n",
    "# scale the data (maybe not necessary)\n",
    "# filtered_scipy = hp.scale_data(filtered_scipy)\n",
    "# filtered_mat = hp.scale_data(filtered_mat)\n",
    "\n",
    "\n",
    "\n",
    "trace_bp_matlab = go.Scatter(x=xs_time,\n",
    "                               y=filtered_mat,\n",
    "                               mode=\"lines\",\n",
    "                               name=\"Bandpass Filtered (MATLAB)\")\n",
    "trace_bp = go.Scatter(x=xs_time,\n",
    "                      y=filtered_scipy,\n",
    "                      mode=\"lines\",\n",
    "                      name=\"Bandpass Filtered (Scipy)\")\n",
    "fig = go.Figure(data=[trace_bp, trace_bp_matlab])\n",
    "fig.update_layout(\n",
    "    xaxis=dict(title=\"Time (s)\"),\n",
    "    yaxis=dict(title=\"Red LED Reading (ADC Value)\"),\n",
    ")\n",
    "fig.show()"
   ]
  },
  {
   "cell_type": "code",
   "execution_count": null,
   "metadata": {},
   "outputs": [],
   "source": [
    "# calc_freq: whether to calculate frequency domain measures\n",
    "# interp_threshold: the amplitude threshold beyond which will be checked for\n",
    "# clipping. Recommended is to take this as the maximum value of the ADC with\n",
    "# some margin for signal noise\n",
    "# reject_segmentwise: whether to reject segments with more than 30% rejected\n",
    "# beats. By default looks at segments of 10 beats at a time.\n",
    "\n",
    "# clean_rr uses by default quotient-filtering, which is a bit aggressive.\n",
    "# You can set 'iqr' or 'z-score' with the clean_rr_method flag.\n",
    "working, measures = hp.process(filtered_mat, sample_rate=SAMPLE_RATE, freq_method=\"welch\", interp_clipping=False, clean_rr_method=\"quotient-filtering\")\n",
    "\n",
    "# Take into consideration that the scale for RMSSD doesn't typically exceed +/-\n",
    "# 130, SDSD doesn't differ by much. This means that even a few incorrectly\n",
    "# detected peaks are already introducing large measurement errors into the output\n",
    "# variables. The algorithm described here is specifically designed to handle noisy\n",
    "# PPG data from cheap sensors. The main design criteria was to minimise the number\n",
    "# of incorrectly placed peaks as to minimise the error introduced into the output\n",
    "# measures.\n",
    "\n",
    "display(measures)\n",
    "hp.plotter(working, measures, figsize=(18, 4), moving_average=True)"
   ]
  },
  {
   "cell_type": "code",
   "execution_count": null,
   "metadata": {},
   "outputs": [],
   "source": [
    "hp.plot_breathing(working, measures, figsize=(18, 4))"
   ]
  },
  {
   "cell_type": "code",
   "execution_count": null,
   "metadata": {},
   "outputs": [],
   "source": [
    "hp.plot_poincare(working, measures, figsize=(4, 4))"
   ]
  }
 ],
 "metadata": {
  "kernelspec": {
   "display_name": "Python 3",
   "language": "python",
   "name": "python3"
  },
  "language_info": {
   "codemirror_mode": {
    "name": "ipython",
    "version": 3
   },
   "file_extension": ".py",
   "mimetype": "text/x-python",
   "name": "python",
   "nbconvert_exporter": "python",
   "pygments_lexer": "ipython3",
   "version": "3.12.2"
  }
 },
 "nbformat": 4,
 "nbformat_minor": 2
}
